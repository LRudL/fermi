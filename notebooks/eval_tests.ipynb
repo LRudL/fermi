{
 "cells": [
  {
   "cell_type": "code",
   "execution_count": 13,
   "metadata": {},
   "outputs": [
    {
     "name": "stdout",
     "output_type": "stream",
     "text": [
      "The autoreload extension is already loaded. To reload it, use:\n",
      "  %reload_ext autoreload\n"
     ]
    }
   ],
   "source": [
    "%load_ext autoreload\n",
    "%autoreload 2\n",
    "import sys\n",
    "import os\n",
    " # Add the parent directory to sys.path\n",
    "sys.path.append(os.path.abspath(os.path.join(os.getcwd(), '..')))\n",
    "\n",
    "from src import eval, utils, structs"
   ]
  },
  {
   "cell_type": "code",
   "execution_count": 2,
   "metadata": {},
   "outputs": [],
   "source": [
    "estimator = eval.baselines.simple_llm_estimator(\"gpt-4o\")"
   ]
  },
  {
   "cell_type": "code",
   "execution_count": 3,
   "metadata": {},
   "outputs": [
    {
     "data": {
      "text/plain": [
       "Estimator(fn=<function create_estimator.<locals>.curried_estimator at 0x786ce24f7ce0>, name='simple_llm_estimator:gpt-4o')"
      ]
     },
     "execution_count": 3,
     "metadata": {},
     "output_type": "execute_result"
    }
   ],
   "source": [
    "estimator"
   ]
  },
  {
   "cell_type": "code",
   "execution_count": 30,
   "metadata": {},
   "outputs": [
    {
     "name": "stderr",
     "output_type": "stream",
     "text": [
      "100%|██████████| 7/7 [00:13<00:00,  1.99s/it]\n"
     ]
    }
   ],
   "source": [
    "eval_result = eval.eval.generate_eval_result(estimator, True, True)"
   ]
  },
  {
   "cell_type": "code",
   "execution_count": 31,
   "metadata": {},
   "outputs": [
    {
     "name": "stdout",
     "output_type": "stream",
     "text": [
      "Saving eval result...\n",
      "Writing to file: /home/lrudl/Dropbox/Rudolf/code/fermi/src/eval/../../out/simple_llm_estimator:gpt-4o_2024-09-22_18-45-47_eval_result.json\n",
      "JSON data (first 800 chars): {\n",
      "  \"estimator_name\": \"simple_llm_estimator:gpt-4o_2024-09-22_18-45-47\",\n",
      "  \"score\": \"2.857e-01\",\n",
      "  \"queries_incorrect\": [\n",
      "    {\n",
      "      \"question\": \"What was the total power consumption of AI data centers in Virginia in 2023 in Wh?\",\n",
      "      \"estimate\": {\n",
      "        \"lower\": \"5.260e+12\",\n",
      "        \"value\": \"8.760e+12\",\n",
      "        \"upper\": \"1.226e+13\",\n",
      "        \"unit\": \"Wh\",\n",
      "        \"name\": null,\n",
      "        \"reasoning_trace\": [\n",
      "          {\n",
      "            \"content\": \"\\n    You are an expert at estimating quantities.\\n    You will be given a question that asks you to estimate a quantity.\\n    It is important that you actually try to provide an estimate, rather than giving up, even if estimating is hard or uncertain.\\n    You should reason step-by-step to estimate what that quantity could be.\\n    You should als...\n",
      "Finished saving eval result.\n"
     ]
    }
   ],
   "source": [
    "eval.eval.save_eval_result(eval_result)"
   ]
  },
  {
   "cell_type": "code",
   "execution_count": 33,
   "metadata": {},
   "outputs": [
    {
     "data": {
      "text/plain": [
       "True"
      ]
     },
     "execution_count": 33,
     "metadata": {},
     "output_type": "execute_result"
    }
   ],
   "source": [
    "utils.test_convert_units()"
   ]
  },
  {
   "cell_type": "code",
   "execution_count": null,
   "metadata": {},
   "outputs": [],
   "source": []
  }
 ],
 "metadata": {
  "kernelspec": {
   "display_name": "fermi",
   "language": "python",
   "name": "python3"
  },
  "language_info": {
   "codemirror_mode": {
    "name": "ipython",
    "version": 3
   },
   "file_extension": ".py",
   "mimetype": "text/x-python",
   "name": "python",
   "nbconvert_exporter": "python",
   "pygments_lexer": "ipython3",
   "version": "3.12.5"
  }
 },
 "nbformat": 4,
 "nbformat_minor": 2
}
